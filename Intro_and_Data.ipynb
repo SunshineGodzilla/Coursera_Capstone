{
 "cells": [
  {
   "cell_type": "markdown",
   "metadata": {},
   "source": [
    "# Introduction\n",
    "\n",
    "\n",
    "\n",
    "\n"
   ]
  },
  {
   "cell_type": "markdown",
   "metadata": {},
   "source": [
    "New York City is one of the most populous cities around the global and it is also the financial center of the USA. There are many companies set up head offices in New York City, which creates numerous job opportunities. New York City is also multi-cultural and embraces people with different backgrounds. Both factors aforementioned are attractive for people working and living in New York City especially in a financial sector.\n",
    "As new comers coming to New York City and trying to start new life there, the first problem that they need to solve is to find a place to live. In this article, various factors will be considered such as closeness to work place or accessibility to public transportation etc. In addition, various neighborhoods will be clustered and compared in order to find the best neighborhood for living. "
   ]
  },
  {
   "cell_type": "markdown",
   "metadata": {},
   "source": [
    "# Data"
   ]
  },
  {
   "cell_type": "markdown",
   "metadata": {},
   "source": [
    "Data for New York City was obtained from two sources:\n",
    "1.\thttps://geo.nyu.edu/catalog/nyu_2451_34572\n",
    "2.\tFoursquare\n",
    "The first data set contains the 5 boroughs and the neighborhoods that exist in each borough as well as the latitude and longitude coordinates of each neighborhood. \n",
    "Data from Foursquare was extracted to explore the popular venues within each neighborhoods"
   ]
  }
 ],
 "metadata": {
  "kernelspec": {
   "display_name": "Python 3",
   "language": "python",
   "name": "python3"
  },
  "language_info": {
   "codemirror_mode": {
    "name": "ipython",
    "version": 3
   },
   "file_extension": ".py",
   "mimetype": "text/x-python",
   "name": "python",
   "nbconvert_exporter": "python",
   "pygments_lexer": "ipython3",
   "version": "3.7.3"
  }
 },
 "nbformat": 4,
 "nbformat_minor": 2
}
